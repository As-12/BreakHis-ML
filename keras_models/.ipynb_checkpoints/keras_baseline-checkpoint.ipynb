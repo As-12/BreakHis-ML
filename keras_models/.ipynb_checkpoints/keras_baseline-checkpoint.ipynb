{
 "cells": [
  {
   "cell_type": "markdown",
   "metadata": {},
   "source": [
    "# MLP-CW3 NN Baseline Training Framework \n"
   ]
  },
  {
   "cell_type": "markdown",
   "metadata": {},
   "source": [
    "## Imports"
   ]
  },
  {
   "cell_type": "code",
   "execution_count": 1,
   "metadata": {},
   "outputs": [
    {
     "name": "stderr",
     "output_type": "stream",
     "text": [
      "Using TensorFlow backend.\n"
     ]
    }
   ],
   "source": [
    "# set the matplotlib backend so figures can be saved in the background\n",
    "import os\n",
    "os.environ['KERAS_BACKEND'] = 'tensorflow'\n",
    "import matplotlib\n",
    "import keras\n",
    "# import the necessary packages\n",
    "from keras.preprocessing.image import ImageDataGenerator\n",
    "from keras.callbacks import ModelCheckpoint\n",
    "from keras.optimizers import Adam\n",
    "from sklearn.model_selection import train_test_split\n",
    "from keras.preprocessing.image import img_to_array\n",
    "from keras.utils import to_categorical\n",
    "from imutils import paths\n",
    "import matplotlib.pyplot as plt\n",
    "import numpy as np\n",
    "import argparse\n",
    "import random\n",
    "import cv2\n",
    "\n",
    "import shutil\n",
    "import fnmatch\n",
    "import pickle\n",
    "from keras.models import Sequential\n",
    "from keras.layers import Dense\n",
    "from keras.layers import Dropout\n",
    "from keras.layers import Flatten\n",
    "from keras.layers import BatchNormalization\n",
    "from keras.layers import Activation\n",
    "from keras.constraints import max_norm\n",
    "from keras import regularizers\n",
    "from keras.layers.advanced_activations import LeakyReLU\n",
    "import keras.initializers\n",
    "from keras.layers.convolutional import Conv2D\n",
    "from keras.layers.convolutional import MaxPooling2D\n",
    "import keras.optimizers\n",
    "from keras.utils import np_utils\n",
    "from keras import backend as K\n",
    "from sklearn.metrics import confusion_matrix\n",
    "import seaborn as sns"
   ]
  },
  {
   "cell_type": "markdown",
   "metadata": {},
   "source": [
    "## File Processings"
   ]
  },
  {
   "cell_type": "code",
   "execution_count": 2,
   "metadata": {
    "collapsed": true
   },
   "outputs": [],
   "source": [
    "\n",
    "run_this = 0\n",
    "\n",
    "##########################################\n",
    "def gen_find(filepat,top):\n",
    "    for path, dirlist, filelist in os.walk(top):\n",
    "        for name in fnmatch.filter(filelist,filepat):\n",
    "            yield os.path.join(path,name)\n",
    "            \n",
    "if run_this == 1:\n",
    "    #Benign\n",
    "    src = '../data/benign/SOB/' # input\n",
    "    dst = '../Benign/' # desired location\n",
    "\n",
    "    filesToMove = gen_find(\"*png\",src)\n",
    "    for name in filesToMove:\n",
    "        shutil.copy(name, dst)\n",
    "    \n",
    "    #Malignant\n",
    "    src = '../data/malignant/SOB/' # input\n",
    "    dst = '../Malignant/' # desired location\n",
    "\n",
    "    filesToMove = gen_find(\"*png\",src)\n",
    "    for name in filesToMove:\n",
    "        shutil.copy(name, dst)"
   ]
  },
  {
   "cell_type": "markdown",
   "metadata": {},
   "source": [
    "## Environment Settings"
   ]
  },
  {
   "cell_type": "code",
   "execution_count": 3,
   "metadata": {
    "collapsed": true
   },
   "outputs": [],
   "source": [
    "#Keras setting\n",
    "K.set_image_dim_ordering('tf')  #Image dimension ordering\n",
    "\n",
    "\n",
    "#Random seeds\n",
    "SEED = 2082018\n",
    "np.random.seed(SEED)\n",
    "\n",
    "#Image Settings\n",
    "IMAGE_RESIZE = (224,224)  # Image size. Process on the by data generator. Should match CNN model input. \n",
    "\n",
    "#Training Settings\n",
    "BATCH_SIZE = 1\n",
    "EPOCH = 20\n",
    "\n",
    "#Directories\n",
    "# NOTE: The labels are determined by subfolders. PNG or JPEG images only.\n",
    "TRAIN_DIR = '../../TRAIN' \n",
    "VAL_DIR = '../../VALID'\n",
    "TEST_DIR =  '../../VALID'\n",
    "\n",
    "#Model Settting\n",
    "CLASSIFICATION_MODE = 'binary'  # use 'categorical' for multi-class. \n",
    "\n",
    "\n",
    "#Checkpoints and save files\n",
    "\n",
    "# Saving every epochs that improve val accuracy\n",
    " #MODEL_CHECKPOINT_FILE=\"baseline_model-weights-{epoch:02d}-{val_acc:.2f}.hdf5\"\n",
    "# Rewriting save file for epoch that improves val accuracy\n",
    "MODEL_CHECKPOINT_FILE=\"baseline_model-weights.hdf5\"  \n",
    "\n",
    "#Training charts and graphics\n",
    "MODEL_TRAIN_RESULTS_FILE=\"baseline_train.pickle\"\n",
    "MODEL_ACCURACY_GRAPH_FILE=\"baseline_accuracy.pdf\"\n",
    "MODEL_LOSS_GRAPH_FILE=\"baseline_loss.pdf\"\n"
   ]
  },
  {
   "cell_type": "markdown",
   "metadata": {},
   "source": [
    "## Data Augmentation\n",
    "\n",
    "See Keras documentation for details https://faroit.github.io/keras-docs/1.1.0/preprocessing/image/\n"
   ]
  },
  {
   "cell_type": "code",
   "execution_count": 4,
   "metadata": {
    "collapsed": true
   },
   "outputs": [],
   "source": [
    "#No augmentation on baseline. Only normalize to [0,1.0] scale.\n",
    "trainDataGenerator = ImageDataGenerator(rescale=1./255)\n",
    "validationDataGenerator = ImageDataGenerator(rescale=1./255)\n",
    "testDataGenerator = ImageDataGenerator(rescale=1./255)"
   ]
  },
  {
   "cell_type": "markdown",
   "metadata": {},
   "source": [
    "## Building Data Generator"
   ]
  },
  {
   "cell_type": "code",
   "execution_count": 5,
   "metadata": {},
   "outputs": [
    {
     "name": "stdout",
     "output_type": "stream",
     "text": [
      "Found 5252 images belonging to 2 classes.\n",
      "Found 1735 images belonging to 2 classes.\n",
      "Found 1735 images belonging to 2 classes.\n"
     ]
    }
   ],
   "source": [
    "# Building Data Generator\n",
    "trainDataGenerator = trainDataGenerator.flow_from_directory(\n",
    "        TRAIN_DIR,\n",
    "        target_size=IMAGE_RESIZE,\n",
    "        batch_size=BATCH_SIZE,\n",
    "        #color_mode='grayscale',\n",
    "        class_mode=CLASSIFICATION_MODE)\n",
    "\n",
    "validationDataGenerator = validationDataGenerator.flow_from_directory(\n",
    "        VAL_DIR,\n",
    "        target_size=IMAGE_RESIZE,\n",
    "        batch_size=BATCH_SIZE,\n",
    "        #color_mode='grayscale',\n",
    "        class_mode=CLASSIFICATION_MODE)\n",
    "\n",
    "testDataGenerator = testDataGenerator.flow_from_directory(\n",
    "        VAL_DIR,\n",
    "        target_size=IMAGE_RESIZE,\n",
    "        batch_size=BATCH_SIZE,\n",
    "        #color_mode='grayscale',\n",
    "        class_mode=CLASSIFICATION_MODE)\n"
   ]
  },
  {
   "cell_type": "markdown",
   "metadata": {},
   "source": [
    "# Building Neural Net Model"
   ]
  },
  {
   "cell_type": "code",
   "execution_count": 6,
   "metadata": {
    "collapsed": true
   },
   "outputs": [],
   "source": [
    "# Building Models\n",
    "def baseline_model():\n",
    "    weight_init = keras.initializers.glorot_uniform(seed=SEED)\n",
    "    sgd = keras.optimizers.SGD(lr=0.01, decay=0, momentum=0.0)\n",
    "    adam = keras.optimizers.Adam(lr=0.0001, beta_1=0.9, beta_2=0.99, epsilon=1e-08, decay=0.0)\n",
    "    model = Sequential()\n",
    "    model.add(Dropout(0.2, seed=SEED,input_shape=(28, 28,1)))\n",
    "    model.add(Conv2D(32, (3, 3)))#, input_shape=(28, 28,1)))\n",
    "    model.add(BatchNormalization())\n",
    "    model.add(LeakyReLU(alpha=0.01))\n",
    "    model.add(MaxPooling2D(pool_size=(2, 2) ))\n",
    "    model.add(Conv2D(64, (3, 3)))\n",
    "    model.add(BatchNormalization())\n",
    "    model.add(LeakyReLU(alpha=0.01))\n",
    "    model.add(MaxPooling2D(pool_size=(2, 2)))         \n",
    "    #Classification Layers\n",
    "    model.add(Flatten())\n",
    "    model.add(Dense(128))\n",
    "    model.add(BatchNormalization())\n",
    "    model.add(LeakyReLU(alpha=0.01)) \n",
    "    model.add(Dense(1, activation='sigmoid'))\n",
    "    # Compile model\n",
    "    model.compile(loss='binary_crossentropy', optimizer=adam, metrics=['accuracy'])\n",
    "    return model\n",
    "\n",
    "def LeNet():\n",
    "    adam = keras.optimizers.Adam(lr=0.0001, beta_1=0.9, beta_2=0.99, epsilon=1e-08, decay=0.0)\n",
    "    model = Sequential()\n",
    "    model.add(Conv2D(32, kernel_size=(3, 3),\n",
    "                     input_shape=(224, 224,3)))\n",
    "    model.add(BatchNormalization())\n",
    "    model.add(LeakyReLU(alpha=0.01)) \n",
    "    model.add(MaxPooling2D(pool_size=(2, 2) ))\n",
    "    model.add(Conv2D(64, (3, 3)))\n",
    "    model.add(BatchNormalization())\n",
    "    model.add(LeakyReLU(alpha=0.01)) \n",
    "    model.add(MaxPooling2D(pool_size=(2, 2)))\n",
    "    model.add(Dropout(0.25))\n",
    "    model.add(Flatten())\n",
    "    model.add(Dense(128))\n",
    "    model.add(BatchNormalization())\n",
    "    model.add(LeakyReLU(alpha=0.01)) \n",
    "    model.add(Dropout(0.5))\n",
    "    model.add(Dense(1, activation='sigmoid'))\n",
    "    model.compile(loss='binary_crossentropy', optimizer=adam, metrics=['accuracy'])\n",
    "    return model\n",
    "\n",
    "model = LeNet()"
   ]
  },
  {
   "cell_type": "markdown",
   "metadata": {},
   "source": [
    "#### Setting checkpoint options"
   ]
  },
  {
   "cell_type": "code",
   "execution_count": 7,
   "metadata": {
    "collapsed": true
   },
   "outputs": [],
   "source": [
    "checkpoint = ModelCheckpoint(MODEL_CHECKPOINT_FILE, monitor='val_acc', verbose=1, save_best_only=True, mode='max')\n",
    "callbacks_list = [checkpoint]"
   ]
  },
  {
   "cell_type": "markdown",
   "metadata": {},
   "source": [
    "#### Loading weights\n",
    "\n",
    "In case issue with training / crash. Run this to load the weights into model. You can either train the model or use it for classification.\n"
   ]
  },
  {
   "cell_type": "code",
   "execution_count": 8,
   "metadata": {
    "collapsed": true
   },
   "outputs": [],
   "source": [
    "run_this = 1\n",
    "\n",
    "#Specify checkpoint file here\n",
    "CHECKPOINT_FILE = MODEL_CHECKPOINT_FILE\n",
    "\n",
    "###############################################\n",
    "if run_this == 1:\n",
    "    model.load_weights(CHECKPOINT_FILE)"
   ]
  },
  {
   "cell_type": "markdown",
   "metadata": {},
   "source": [
    "# Training"
   ]
  },
  {
   "cell_type": "code",
   "execution_count": 9,
   "metadata": {
    "scrolled": false
   },
   "outputs": [
    {
     "name": "stdout",
     "output_type": "stream",
     "text": [
      "Epoch 1/20\n",
      "5251/5252 [============================>.] - ETA: 0s - loss: 0.6005 - acc: 0.7119Epoch 00001: val_acc improved from -inf to 0.38905, saving model to baseline_model-weights.hdf5\n",
      "5252/5252 [==============================] - 353s 67ms/step - loss: 0.6005 - acc: 0.7119 - val_loss: 8.1302 - val_acc: 0.3890\n",
      "Epoch 2/20\n",
      "5251/5252 [============================>.] - ETA: 0s - loss: 0.6003 - acc: 0.7121Epoch 00002: val_acc did not improve\n",
      "5252/5252 [==============================] - 356s 68ms/step - loss: 0.6005 - acc: 0.7119 - val_loss: 8.3666 - val_acc: 0.3816\n",
      "Epoch 3/20\n",
      "5251/5252 [============================>.] - ETA: 0s - loss: 0.6005 - acc: 0.7119Epoch 00003: val_acc improved from 0.38905 to 0.39308, saving model to baseline_model-weights.hdf5\n",
      "5252/5252 [==============================] - 360s 68ms/step - loss: 0.6004 - acc: 0.7119 - val_loss: 8.2595 - val_acc: 0.3931\n",
      "Epoch 4/20\n",
      "5251/5252 [============================>.] - ETA: 0s - loss: 0.6005 - acc: 0.7119Epoch 00004: val_acc did not improve\n",
      "5252/5252 [==============================] - 357s 68ms/step - loss: 0.6005 - acc: 0.7119 - val_loss: 8.1976 - val_acc: 0.3867\n",
      "Epoch 5/20\n",
      "5251/5252 [============================>.] - ETA: 0s - loss: 0.6005 - acc: 0.7119Epoch 00005: val_acc did not improve\n",
      "5252/5252 [==============================] - 352s 67ms/step - loss: 0.6004 - acc: 0.7119 - val_loss: 8.2523 - val_acc: 0.3908\n",
      "Epoch 6/20\n",
      "5251/5252 [============================>.] - ETA: 0s - loss: 0.6003 - acc: 0.7121Epoch 00006: val_acc improved from 0.39308 to 0.39481, saving model to baseline_model-weights.hdf5\n",
      "5252/5252 [==============================] - 356s 68ms/step - loss: 0.6004 - acc: 0.7119 - val_loss: 8.0392 - val_acc: 0.3948\n",
      "Epoch 7/20\n",
      "5251/5252 [============================>.] - ETA: 0s - loss: 0.6005 - acc: 0.7119Epoch 00007: val_acc did not improve\n",
      "5252/5252 [==============================] - 355s 68ms/step - loss: 0.6004 - acc: 0.7119 - val_loss: 8.2815 - val_acc: 0.3890\n",
      "Epoch 8/20\n",
      "5251/5252 [============================>.] - ETA: 0s - loss: 0.6003 - acc: 0.7121Epoch 00008: val_acc improved from 0.39481 to 0.39712, saving model to baseline_model-weights.hdf5\n",
      "5252/5252 [==============================] - 359s 68ms/step - loss: 0.6004 - acc: 0.7119 - val_loss: 7.9693 - val_acc: 0.3971\n",
      "Epoch 9/20\n",
      "5251/5252 [============================>.] - ETA: 0s - loss: 0.6005 - acc: 0.7119Epoch 00009: val_acc did not improve\n",
      "5252/5252 [==============================] - 357s 68ms/step - loss: 0.6005 - acc: 0.7119 - val_loss: 8.1876 - val_acc: 0.3919\n",
      "Epoch 10/20\n",
      "5251/5252 [============================>.] - ETA: 0s - loss: 0.6003 - acc: 0.7121Epoch 00010: val_acc improved from 0.39712 to 0.40231, saving model to baseline_model-weights.hdf5\n",
      "5252/5252 [==============================] - 354s 67ms/step - loss: 0.6005 - acc: 0.7119 - val_loss: 7.9305 - val_acc: 0.4023\n",
      "Epoch 11/20\n",
      "5251/5252 [============================>.] - ETA: 0s - loss: 0.6005 - acc: 0.7119Epoch 00011: val_acc did not improve\n",
      "5252/5252 [==============================] - 355s 68ms/step - loss: 0.6005 - acc: 0.7119 - val_loss: 8.2356 - val_acc: 0.3896\n",
      "Epoch 12/20\n",
      "5251/5252 [============================>.] - ETA: 0s - loss: 0.6005 - acc: 0.7119Epoch 00012: val_acc did not improve\n",
      "5252/5252 [==============================] - 352s 67ms/step - loss: 0.6005 - acc: 0.7119 - val_loss: 8.2451 - val_acc: 0.3873\n",
      "Epoch 13/20\n",
      "5251/5252 [============================>.] - ETA: 0s - loss: 0.6005 - acc: 0.7119Epoch 00013: val_acc did not improve\n",
      "5252/5252 [==============================] - 347s 66ms/step - loss: 0.6005 - acc: 0.7119 - val_loss: 8.5085 - val_acc: 0.3775\n",
      "Epoch 14/20\n",
      "5251/5252 [============================>.] - ETA: 0s - loss: 0.6005 - acc: 0.7119Epoch 00014: val_acc did not improve\n",
      "5252/5252 [==============================] - 351s 67ms/step - loss: 0.6005 - acc: 0.7119 - val_loss: 8.3036 - val_acc: 0.3821\n",
      "Epoch 15/20\n",
      "5251/5252 [============================>.] - ETA: 0s - loss: 0.6005 - acc: 0.7119Epoch 00015: val_acc did not improve\n",
      "5252/5252 [==============================] - 351s 67ms/step - loss: 0.6005 - acc: 0.7119 - val_loss: 7.9330 - val_acc: 0.3942\n",
      "Epoch 16/20\n",
      "5251/5252 [============================>.] - ETA: 0s - loss: 0.6005 - acc: 0.7119Epoch 00016: val_acc did not improve\n",
      "5252/5252 [==============================] - 347s 66ms/step - loss: 0.6005 - acc: 0.7119 - val_loss: 8.3920 - val_acc: 0.3821\n",
      "Epoch 17/20\n",
      "5251/5252 [============================>.] - ETA: 0s - loss: 0.6005 - acc: 0.7119Epoch 00017: val_acc did not improve\n",
      "5252/5252 [==============================] - 346s 66ms/step - loss: 0.6005 - acc: 0.7119 - val_loss: 8.2948 - val_acc: 0.3914\n",
      "Epoch 18/20\n",
      "5251/5252 [============================>.] - ETA: 0s - loss: 0.6005 - acc: 0.7119Epoch 00018: val_acc did not improve\n",
      "5252/5252 [==============================] - 346s 66ms/step - loss: 0.6005 - acc: 0.7119 - val_loss: 8.4091 - val_acc: 0.3793\n",
      "Epoch 19/20\n",
      "5251/5252 [============================>.] - ETA: 0s - loss: 0.6005 - acc: 0.7119Epoch 00019: val_acc did not improve\n",
      "5252/5252 [==============================] - 348s 66ms/step - loss: 0.6005 - acc: 0.7119 - val_loss: 8.3652 - val_acc: 0.3925\n",
      "Epoch 20/20\n",
      "5251/5252 [============================>.] - ETA: 0s - loss: 0.6003 - acc: 0.7121Epoch 00020: val_acc did not improve\n",
      "5252/5252 [==============================] - 353s 67ms/step - loss: 0.6005 - acc: 0.7119 - val_loss: 8.1945 - val_acc: 0.3914\n"
     ]
    }
   ],
   "source": [
    "run_this = 1\n",
    "\n",
    "if run_this == 1:\n",
    "    \n",
    "    #Train models\n",
    "    history = model.fit_generator(\n",
    "        trainDataGenerator,\n",
    "        epochs = EPOCH,\n",
    "        steps_per_epoch = len(trainDataGenerator),\n",
    "        validation_data = validationDataGenerator,\n",
    "        validation_steps = len(validationDataGenerator),\n",
    "        callbacks = callbacks_list)\n",
    "    \n",
    "    #Saving training result\n",
    "    with open(MODEL_TRAIN_RESULTS_FILE, \"wb\") as output_file:\n",
    "        pickle.dump(history.history, output_file)"
   ]
  },
  {
   "cell_type": "markdown",
   "metadata": {
    "collapsed": true
   },
   "source": [
    "#### Visualizing Training"
   ]
  },
  {
   "cell_type": "code",
   "execution_count": 13,
   "metadata": {
    "scrolled": false
   },
   "outputs": [
    {
     "data": {
      "image/png": "[encoded data removed]",
      "text/plain": [
       "<matplotlib.figure.Figure at 0x279ae871a20>"
      ]
     },
     "metadata": {},
     "output_type": "display_data"
    },
    {
     "data": {
      "image/png": "[encoded data removed]",
      "text/plain": [
       "<matplotlib.figure.Figure at 0x279aeed4828>"
      ]
     },
     "metadata": {},
     "output_type": "display_data"
    },
    {
     "name": "stdout",
     "output_type": "stream",
     "text": [
      "Val Acc:  0.402305475504\n",
      "Train Acc:  0.71191926885\n",
      "Val Err:  8.50846312689\n",
      "Train Err:  0.60046547817\n"
     ]
    }
   ],
   "source": [
    "run_this = 1\n",
    "\n",
    "if run_this == 1:\n",
    "    with open(MODEL_TRAIN_RESULTS_FILE, \"rb\") as input_file:\n",
    "        history = pickle.load(input_file)\n",
    "    plt.style.use('ggplot')\n",
    "    accuracy_plot = plt.figure(figsize=(15,10))\n",
    "    for k in ['val_acc', 'acc']:\n",
    "        data = np.array(history[k])\n",
    "        plt.plot(data)\n",
    "    plt.title('Model Accuracy')\n",
    "    plt.ylabel('Accuracy')\n",
    "    plt.xlabel('Epoch Number')\n",
    "    plt.legend(['acc(valid)', 'acc(train)'], loc='upper left')\n",
    "    plt.grid(True)\n",
    "    plt.show()\n",
    "    loss_plot = plt.figure(figsize=(15,10))\n",
    "    for k in ['loss', 'val_loss']:\n",
    "        data = np.array(history[k])\n",
    "        plt.plot(data)\n",
    "    plt.title('Model Loss')\n",
    "    plt.ylabel('Error (Log Loss)')\n",
    "    plt.xlabel('Epoch Number')\n",
    "    plt.grid(True)\n",
    "    plt.legend(['error(train)', 'error(valid)'], loc='upper left')\n",
    "    plt.show()\n",
    "    #Save visualization data\n",
    "    print(\"Val Acc: \",np.max(np.array(history['val_acc'])))\n",
    "    print(\"Train Acc: \", np.max(np.array(history['acc'])))\n",
    "    print(\"Val Err: \",np.max(np.array(history['val_loss'])))\n",
    "    print(\"Train Err: \", np.max(np.array(history['loss'])))\n",
    "    accuracy_plot.savefig(MODEL_ACCURACY_GRAPH_FILE, bbox_inches='tight')\n",
    "    loss_plot.savefig(MODEL_LOSS_GRAPH_FILE, bbox_inches='tight')"
   ]
  },
  {
   "cell_type": "markdown",
   "metadata": {},
   "source": [
    "# Evaluation"
   ]
  },
  {
   "cell_type": "markdown",
   "metadata": {},
   "source": [
    "## Validation Set Confusion Matrix\n",
    "\n",
    "#### Note: \n",
    "The labels are hard coded and might not represent the actual label as automatically created by DataGenerator. So switch it around until we figure out the solution"
   ]
  },
  {
   "cell_type": "code",
   "execution_count": 11,
   "metadata": {
    "collapsed": true
   },
   "outputs": [],
   "source": [
    "run_this = 0\n",
    "\n",
    "def plot_confusion_matrix(cm, classes=None, title='Confusion matrix'):\n",
    "    \"\"\"Plots a confusion matrix.\"\"\"\n",
    "    plot = plt.figure()\n",
    "    if classes is not None:\n",
    "        sns.heatmap(cm, xticklabels=classes, yticklabels=classes, vmin=0., vmax=1., annot=True)\n",
    "    else:\n",
    "        sns.heatmap(cm, vmin=0., vmax=1.)\n",
    "    plt.title(title)\n",
    "    plt.ylabel('True label')\n",
    "    plt.xlabel('Predicted label')\n",
    "    plt.show()\n",
    "    return plot\n",
    "    \n",
    "    \n",
    "if run_this == 1:\n",
    "    \n",
    "    #Load Validation Data\n",
    "    imagePaths = sorted(list(paths.list_images(VAL_DIR)))\n",
    "    data = []\n",
    "    labels = []\n",
    "    for imagePath in imagePaths:\n",
    "        # load the image, pre-process it, and store it in the data list\n",
    "        image = cv2.imread(imagePath)\n",
    "        image = cv2.resize(image, (224, 224))\n",
    "        image = img_to_array(image)\n",
    "        data.append(image)\n",
    "     \n",
    "        # extract the class label from the image path and update the\n",
    "        # labels list\n",
    "        label = imagePath.split(os.path.sep)[-2]\n",
    "        label = 1 if label == \"Benign\" else 0\n",
    "        labels.append(label)\n",
    "    data = np.array(data, dtype=\"float\") / 255.0\n",
    "    labels = np.array(labels)\n",
    "    y_pred = model.predict(data)\n",
    "    #Make prediction\n",
    "    \n",
    "    #Display confusion matrix\n",
    "    \n",
    "    cm = confusion_matrix(labels, np.rint(y_pred))\n",
    "    cm_norm = cm/cm.sum(axis=1)[:, np.newaxis]\n",
    "    plot = plot_confusion_matrix(cm_norm, classes=[\"Benign\", \"Malignant\"])\n",
    "    plot.savefig(\"CM.pdf\", bbox_inches='tight')"
   ]
  },
  {
   "cell_type": "markdown",
   "metadata": {},
   "source": [
    "## Test Data\n",
    "Scalar test loss (if the model has no metrics) or list of scalars (if the model computes other metrics). The attribute model.metrics_names will give you the display labels for the scalar outputs."
   ]
  },
  {
   "cell_type": "code",
   "execution_count": 12,
   "metadata": {
    "collapsed": true
   },
   "outputs": [],
   "source": [
    "run_this = 0\n",
    "\n",
    "if run_this == 1:\n",
    "    scores = model.evaluate_generator(testDataGenerator,steps=len(testDataGenerator)) \n",
    "    print(scores)\n",
    "    print(model.metrics_names)\n",
    "    "
   ]
  }
 ],
 "metadata": {
  "kernelspec": {
   "display_name": "Python 3",
   "language": "python",
   "name": "python3"
  },
  "language_info": {
   "codemirror_mode": {
    "name": "ipython",
    "version": 3
   },
   "file_extension": ".py",
   "mimetype": "text/x-python",
   "name": "python",
   "nbconvert_exporter": "python",
   "pygments_lexer": "ipython3",
   "version": "3.6.4"
  }
 },
 "nbformat": 4,
 "nbformat_minor": 2
}
